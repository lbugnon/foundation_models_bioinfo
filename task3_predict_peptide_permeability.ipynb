{
 "cells": [
  {
   "cell_type": "markdown",
   "metadata": {},
   "source": [
    "Using peptideCLM to predict cell permeability from molecular description (SMILES)"
   ]
  },
  {
   "cell_type": "code",
   "execution_count": 1,
   "metadata": {
    "colab": {
     "base_uri": "https://localhost:8080/"
    },
    "id": "6-zyz4qbCWjn",
    "outputId": "1ab36205-01ec-4f10-a416-52287d566d20"
   },
   "outputs": [
    {
     "name": "stdout",
     "output_type": "stream",
     "text": [
      "Downloading...\n",
      "From: https://drive.google.com/uc?id=10Vkd3fy3IZ5W84UJMmXuoAwVw_esMUhX\n",
      "To: /content/smiles.pk\n",
      "100% 16.6M/16.6M [00:00<00:00, 59.5MB/s]\n"
     ]
    }
   ],
   "source": [
    "!gdown 10Vkd3fy3IZ5W84UJMmXuoAwVw_esMUhX # smiles precomputed embeddings"
   ]
  },
  {
   "cell_type": "code",
   "execution_count": 3,
   "metadata": {
    "id": "UYKbq7uCOnon"
   },
   "outputs": [],
   "source": [
    "import os\n",
    "import pickle\n",
    "import numpy as np\n",
    "import pandas as pd\n",
    "\n",
    "# load pre-computed embeddings\n",
    "all_embeddings = pickle.load(open(f\"smiles.pk\", \"rb\"))\n",
    "# load references\n",
    "df = pd.read_csv(\"https://github.com/lbugnon/foundation_models_bioinfo/raw/refs/heads/main/data/smiles_pampa.csv\")\n",
    "\n",
    "embeddings, labels = {\"train\": [], \"dev\": [], \"test\": []}, {\"train\": [], \"dev\": [], \"test\": []}\n",
    "for k in range(len(df)):\n",
    "    part = df.iloc[k].part\n",
    "    embeddings[part].append(all_embeddings[df.iloc[k].name])\n",
    "    labels[part].append(df.iloc[k].PAMPA)\n",
    "\n",
    "for part in [\"train\", \"dev\", \"test\"]:\n",
    "    embeddings[part] = np.array(embeddings[part])\n",
    "    labels[part] = np.array(labels[part])\n",
    "\n",
    "embeddings[\"train\"].shape"
   ]
  }
 ],
 "metadata": {
  "colab": {
   "provenance": []
  },
  "kernelspec": {
   "display_name": "Python 3",
   "name": "python3"
  },
  "language_info": {
   "name": "python"
  }
 },
 "nbformat": 4,
 "nbformat_minor": 0
}
