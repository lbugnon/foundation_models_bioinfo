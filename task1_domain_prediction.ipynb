{
 "cells": [
  {
   "cell_type": "markdown",
   "metadata": {
    "id": "s0-3zRBoDUSe"
   },
   "source": [
    "## Pfam domain classification\n",
    "Given the following subset of cropped protein domains, evaluate the discriminative power of protein LLMs for domain annotation\n",
    "\n",
    "The following cell will load the dataset references and pre-computed embeddings (reference to 0_data_prep.ipynb), and then format the data in a convenient way considering dataset partitions.\n",
    "\n",
    "You can start with a simple KNN classifier https://scikit-learn.org/dev/modules/generated/sklearn.neighbors.KNeighborsClassifier.html:\n",
    "- Implement training and testing using KNN.\n",
    "- Evaluate the effect of K in the model\n",
    "- Evaluate the different LLMs provided\n",
    "- You can try other classifiers (like RandomForest or MLP)\n",
    "- Are there common fails in families? are clans correctly classified?"
   ]
  },
  {
   "cell_type": "code",
   "execution_count": 3,
   "metadata": {
    "colab": {
     "base_uri": "https://localhost:8080/"
    },
    "id": "Hzrr_d9ck4iV",
    "outputId": "2b77bed7-393c-4b47-a531-20140bd10269"
   },
   "outputs": [
    {
     "name": "stdout",
     "output_type": "stream",
     "text": [
      "Downloading...\n",
      "From (original): https://drive.google.com/uc?id=1BV4-49JQooWBB6x4VR-fujog8_iTB3C2\n",
      "From (redirected): https://drive.google.com/uc?id=1BV4-49JQooWBB6x4VR-fujog8_iTB3C2&confirm=t&uuid=5a18e5c8-8bc4-4257-a9e8-fe325af2ee8d\n",
      "To: /content/AMPLIFY_120M.pk\n",
      "100% 210M/210M [00:06<00:00, 34.2MB/s]\n"
     ]
    }
   ],
   "source": [
    "import os\n",
    "import pickle\n",
    "import numpy as np\n",
    "import pandas as pd\n",
    "\n",
    "data_path = \"https://raw.githubusercontent.com/lbugnon/foundation_models_bioinfo/refs/heads/main/data/\"\n",
    "\n",
    "df = pd.read_csv(f\"{data_path}pfam_some_sequences.csv\", index_col=\"sequence_name\")\n",
    "!gdown 1BV4-49JQooWBB6x4VR-fujog8_iTB3C2 # AMPLIFY_120M\n",
    "#!gdown 1UTsgqkxz8nRVmti5TbxNC4Gpr8eXkzPV # AMPLIFY_350M\n",
    "#!gdown  1N6WYI6Pi0Nh4k5_kPlPGaR1M3hgED8YU # esm2_t30_150M_UR50D\n",
    "#!gdown 1JCz0_xc9Wn8vIORIyNoF_5WAPyTplz3E # esm2_t33_650M_UR50D\n",
    "\n"
   ]
  },
  {
   "cell_type": "code",
   "execution_count": 8,
   "metadata": {
    "id": "I-iacbn9lVe-"
   },
   "outputs": [],
   "source": [
    "import os\n",
    "import pickle\n",
    "import numpy as np\n",
    "import pandas as pd\n",
    "\n",
    "EMB_NAME = \"AMPLIFY_120M\"\n",
    "all_embeddings = pickle.load(open(f\"{EMB_NAME}.pk\", \"rb\"))\n",
    "\n",
    "# make partitions (not very efficient but it is easier later)\n",
    "embeddings, families = {\"train\": [], \"dev\": [], \"test\": []}, {\"train\": [], \"dev\": [], \"test\": []}\n",
    "for k in range(len(df)):\n",
    "    part = df.iloc[k].part\n",
    "    embeddings[part].append(all_embeddings[df.iloc[k].name])\n",
    "    families[part].append(df.iloc[k].family)\n",
    "\n",
    "for part in [\"train\", \"dev\", \"test\"]:\n",
    "    embeddings[part] = np.array(embeddings[part])\n",
    "    families[part] = np.array(families[part])\n"
   ]
  },
  {
   "cell_type": "code",
   "execution_count": 9,
   "metadata": {
    "colab": {
     "base_uri": "https://localhost:8080/"
    },
    "id": "iv_usIPzFQny",
    "outputId": "c5170bd4-ce50-468e-9275-af760a7f3695"
   },
   "outputs": [
    {
     "data": {
      "text/plain": [
       "((59449, 640), (59449,))"
      ]
     },
     "execution_count": 9,
     "metadata": {},
     "output_type": "execute_result"
    }
   ],
   "source": [
    "embeddings[\"train\"].shape, families[\"train\"].shape"
   ]
  },
  {
   "cell_type": "code",
   "execution_count": null,
   "metadata": {
    "id": "Ncw3Gm9jm821"
   },
   "outputs": [],
   "source": []
  }
 ],
 "metadata": {
  "colab": {
   "provenance": []
  },
  "kernelspec": {
   "display_name": "Python 3",
   "name": "python3"
  },
  "language_info": {
   "name": "python"
  }
 },
 "nbformat": 4,
 "nbformat_minor": 0
}
